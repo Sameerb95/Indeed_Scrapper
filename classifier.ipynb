{
  "cells": [
    {
      "cell_type": "code",
      "metadata": {},
      "source": [
        "import xgboost as xgb\n",
        "import pandas as pd\n",
        "from sklearn import preprocessing\n",
        "from sklearn.feature_extraction.text import CountVectorizer\n",
        "import re, csv\n",
        "from sklearn.model_selection import GridSearchCV,StratifiedKFold\n",
        "\n",
        "\n",
        "REGEX_PATTERN = r'(\\n|,|\\.)'\n",
        "\n",
        "def label_generator(label):\n",
        "    if label.lower() == 'data engineer':\n",
        "        return 0\n",
        "    elif label.lower() == 'data scientist':\n",
        "        return 1\n",
        "    else:\n",
        "        return 2\n",
        "\n",
        "def remove_space_and_punctuation(paragraph):\n",
        "    if isinstance(paragraph, str):\n",
        "        paragraph = re.sub(REGEX_PATTERN, ' ', paragraph)\n",
        "    else: paragraph = 'NAN'\n",
        "    return paragraph\n",
        "\n",
        "def write_csv(predictions):\n",
        "    labels = {\n",
        "        0: 'Data Engineer',\n",
        "        1: 'Data Scientist',\n",
        "        2: 'Software Engineer'\n",
        "    }\n",
        "    with open('predictions.csv', 'w') as file:\n",
        "        writer = csv.writer(file)\n",
        "        for p in predictions:\n",
        "            writer.writerow(labels[p])\n",
        "    return\n",
        "\n",
        "def load_csv(path, test=None):\n",
        "    if not test:\n",
        "        all_data = pd.read_csv(path, index_col=None, names=['Description', 'Position'])\n",
        "        return all_data\n",
        "    else:\n",
        "        all_data = pd.read_csv(path, index_col=None, names=['Description'])\n",
        "        return all_data\n",
        "\n",
        "def stage_data(data, test=None):\n",
        "    if not test:\n",
        "        data['labels'] = data.apply(lambda row : label_generator(row['Position']), axis=1)\n",
        "        data = data.drop('Position', 1)\n",
        "    data['Description'] = data.apply(lambda row: remove_space_and_punctuation(row['Description']), axis=1)\n",
        "    return data\n",
        "\n",
        "def get_model(train_data):\n",
        "    lbl_enc = preprocessing.LabelEncoder()\n",
        "    y_train = lbl_enc.fit_transform(train_data.labels)\n",
        "    x_train = train_data.Description\n",
        "\n",
        "    ctv = CountVectorizer(analyzer='word',token_pattern=r'\\w{1,}', ngram_range=(1, 2), stop_words = 'english')\n",
        "    ctv.fit(list(x_train))\n",
        "\n",
        "    xtrain_ctv =  ctv.transform(x_train)\n",
        "\n",
        "    clf = xgb.XGBClassifier(max_depth=7, n_estimators=200, colsample_bytree=0.8, subsample=0.8, nthread=10, learning_rate=0.1)\n",
        "    parameters = {'nthread':[4], #when use hyperthread, xgboost may become slower\n",
        "              'objective':['binary:logistic'],\n",
        "              'learning_rate': [0.05], #so called `eta` value\n",
        "              'max_depth': [6],\n",
        "              'min_child_weight': [11],\n",
        "              'silent': [1],\n",
        "              'subsample': [0.8],\n",
        "              'colsample_bytree': [0.7],\n",
        "              'n_estimators': [5], #number of trees, change it to 1000 for better results\n",
        "              'missing':[-999],\n",
        "              'seed': [1337]}\n",
        "        \n",
        "    clf = GridSearchCV(clf, parameters, n_jobs=5, \n",
        "                   cv=StratifiedKFold(train['QuoteConversion_Flag'], n_folds=5, shuffle=True), \n",
        "                   scoring='roc_auc',\n",
        "                   verbose=2, refit=True)\n",
        "\n",
        "    clf.fit(xtrain_ctv.tocsc(), y_train)\n",
        "\n",
        "    return clf, ctv\n",
        "\n",
        "def predict(model, cv, test_csv_path):\n",
        "    test_data = load_csv(test_csv_path, True)\n",
        "    test_data = stage_data(test_data, True)\n",
        "    x_test = cv.fit(list(test_data['Description']))\n",
        "    x_test = cv.transform(x_test)\n",
        "    return model.predict(x_test)\n",
        "\n",
        "def run(train_data_path, test_data_path):\n",
        "    train_data = load_csv(train_data_path)\n",
        "    train_staged = stage_data(train_data)\n",
        "    clf, cv = get_model(train_staged)\n",
        "    predictions = predict(clf, cv, test_data_path)\n",
        "    write_csv(predictions)\n",
        "\n",
        "\n",
        "'''\n",
        "    run('combined.csv', TESTING-FILE-PATH)\n",
        "'''"
      ],
      "outputs": [
        {
          "output_type": "execute_result",
          "data": {
            "text/plain": [
              "\"\\n    run('data/combined.csv', TESTING-FILE-PATH)\\n\""
            ]
          },
          "metadata": {},
          "execution_count": 2
        }
      ],
      "execution_count": 2
    },
    {
      "cell_type": "code",
      "execution_count": 4,
      "metadata": {},
      "outputs": [
        {
          "output_type": "error",
          "ename": "NameError",
          "evalue": "name 'StratifiedKFold' is not defined",
          "traceback": [
            "\u001b[1;31m---------------------------------------------------------------------------\u001b[0m",
            "\u001b[1;31mNameError\u001b[0m                                 Traceback (most recent call last)",
            "\u001b[1;32m<ipython-input-4-39d72679b9ce>\u001b[0m in \u001b[0;36m<module>\u001b[1;34m\u001b[0m\n\u001b[1;32m----> 1\u001b[1;33m \u001b[0mrun\u001b[0m\u001b[1;33m(\u001b[0m\u001b[1;34m'combined - Copy.csv'\u001b[0m\u001b[1;33m,\u001b[0m \u001b[1;34m'Test.csv'\u001b[0m\u001b[1;33m)\u001b[0m\u001b[1;33m\u001b[0m\u001b[1;33m\u001b[0m\u001b[0m\n\u001b[0m",
            "\u001b[1;32m<ipython-input-2-8771e48c5aeb>\u001b[0m in \u001b[0;36mrun\u001b[1;34m(train_data_path, test_data_path)\u001b[0m\n\u001b[0;32m     92\u001b[0m     \u001b[0mtrain_data\u001b[0m \u001b[1;33m=\u001b[0m \u001b[0mload_csv\u001b[0m\u001b[1;33m(\u001b[0m\u001b[0mtrain_data_path\u001b[0m\u001b[1;33m)\u001b[0m\u001b[1;33m\u001b[0m\u001b[1;33m\u001b[0m\u001b[0m\n\u001b[0;32m     93\u001b[0m     \u001b[0mtrain_staged\u001b[0m \u001b[1;33m=\u001b[0m \u001b[0mstage_data\u001b[0m\u001b[1;33m(\u001b[0m\u001b[0mtrain_data\u001b[0m\u001b[1;33m)\u001b[0m\u001b[1;33m\u001b[0m\u001b[1;33m\u001b[0m\u001b[0m\n\u001b[1;32m---> 94\u001b[1;33m     \u001b[0mclf\u001b[0m\u001b[1;33m,\u001b[0m \u001b[0mcv\u001b[0m \u001b[1;33m=\u001b[0m \u001b[0mget_model\u001b[0m\u001b[1;33m(\u001b[0m\u001b[0mtrain_staged\u001b[0m\u001b[1;33m)\u001b[0m\u001b[1;33m\u001b[0m\u001b[1;33m\u001b[0m\u001b[0m\n\u001b[0m\u001b[0;32m     95\u001b[0m     \u001b[0mpredictions\u001b[0m \u001b[1;33m=\u001b[0m \u001b[0mpredict\u001b[0m\u001b[1;33m(\u001b[0m\u001b[0mclf\u001b[0m\u001b[1;33m,\u001b[0m \u001b[0mcv\u001b[0m\u001b[1;33m,\u001b[0m \u001b[0mtest_data_path\u001b[0m\u001b[1;33m)\u001b[0m\u001b[1;33m\u001b[0m\u001b[1;33m\u001b[0m\u001b[0m\n\u001b[0;32m     96\u001b[0m     \u001b[0mwrite_csv\u001b[0m\u001b[1;33m(\u001b[0m\u001b[0mpredictions\u001b[0m\u001b[1;33m)\u001b[0m\u001b[1;33m\u001b[0m\u001b[1;33m\u001b[0m\u001b[0m\n",
            "\u001b[1;32m<ipython-input-2-8771e48c5aeb>\u001b[0m in \u001b[0;36mget_model\u001b[1;34m(train_data)\u001b[0m\n\u001b[0;32m     74\u001b[0m \u001b[1;33m\u001b[0m\u001b[0m\n\u001b[0;32m     75\u001b[0m     clf = GridSearchCV(clf, parameters, n_jobs=5, \n\u001b[1;32m---> 76\u001b[1;33m                    \u001b[0mcv\u001b[0m\u001b[1;33m=\u001b[0m\u001b[0mStratifiedKFold\u001b[0m\u001b[1;33m(\u001b[0m\u001b[0mtrain\u001b[0m\u001b[1;33m[\u001b[0m\u001b[1;34m'QuoteConversion_Flag'\u001b[0m\u001b[1;33m]\u001b[0m\u001b[1;33m,\u001b[0m \u001b[0mn_folds\u001b[0m\u001b[1;33m=\u001b[0m\u001b[1;36m5\u001b[0m\u001b[1;33m,\u001b[0m \u001b[0mshuffle\u001b[0m\u001b[1;33m=\u001b[0m\u001b[1;32mTrue\u001b[0m\u001b[1;33m)\u001b[0m\u001b[1;33m,\u001b[0m\u001b[1;33m\u001b[0m\u001b[1;33m\u001b[0m\u001b[0m\n\u001b[0m\u001b[0;32m     77\u001b[0m                    \u001b[0mscoring\u001b[0m\u001b[1;33m=\u001b[0m\u001b[1;34m'roc_auc'\u001b[0m\u001b[1;33m,\u001b[0m\u001b[1;33m\u001b[0m\u001b[1;33m\u001b[0m\u001b[0m\n\u001b[0;32m     78\u001b[0m                    verbose=2, refit=True)\n",
            "\u001b[1;31mNameError\u001b[0m: name 'StratifiedKFold' is not defined"
          ]
        }
      ],
      "source": [
        "run('combined - Copy.csv', 'Test.csv')"
      ]
    },
    {
      "cell_type": "code",
      "execution_count": null,
      "metadata": {},
      "outputs": [],
      "source": []
    }
  ],
  "metadata": {
    "anaconda-cloud": {},
    "kernelspec": {
      "display_name": "Python 3",
      "language": "python",
      "name": "python3"
    },
    "language_info": {
      "codemirror_mode": {
        "name": "ipython",
        "version": 3
      },
      "file_extension": ".py",
      "mimetype": "text/x-python",
      "name": "python",
      "nbconvert_exporter": "python",
      "pygments_lexer": "ipython3",
      "version": "3.7.4-final"
    }
  },
  "nbformat": 4,
  "nbformat_minor": 4
}