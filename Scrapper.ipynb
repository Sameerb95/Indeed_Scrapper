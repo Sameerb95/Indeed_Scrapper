{
 "metadata": {
  "language_info": {
   "codemirror_mode": {
    "name": "ipython",
    "version": 3
   },
   "file_extension": ".py",
   "mimetype": "text/x-python",
   "name": "python",
   "nbconvert_exporter": "python",
   "pygments_lexer": "ipython3",
   "version": "3.7.4-final"
  },
  "orig_nbformat": 2,
  "kernelspec": {
   "name": "python3",
   "display_name": "Python 3",
   "language": "python"
  }
 },
 "nbformat": 4,
 "nbformat_minor": 2,
 "cells": [
  {
   "cell_type": "code",
   "execution_count": 37,
   "metadata": {},
   "outputs": [],
   "source": [
    "from urllib.parse import urlparse"
   ]
  },
  {
   "cell_type": "code",
   "execution_count": 42,
   "metadata": {},
   "outputs": [],
   "source": [
    "import csv\n",
    "file_1 = open('C:\\\\Users\\\\samee\\\\Desktop\\\\Stevens\\\\Third_Sem\\\\BIA 660 A\\\\Project\\\\Indeed.csv','w',encoding='utf8')\n",
    "csv_review = csv.writer(file_1,lineterminator='\\n')\n",
    "csv_review.writerow(['Name','Text'])\n"
   ]
  },
  {
   "cell_type": "code",
   "execution_count": 13,
   "metadata": {
    "tags": []
   },
   "outputs": [
    {
     "output_type": "error",
     "ename": "SyntaxError",
     "evalue": "invalid syntax (<ipython-input-13-cad921ef8391>, line 87)",
     "traceback": [
      "\u001b[1;36m  File \u001b[1;32m\"<ipython-input-13-cad921ef8391>\"\u001b[1;36m, line \u001b[1;32m87\u001b[0m\n\u001b[1;33m    except NoSuchElementException:\u001b[0m\n\u001b[1;37m         ^\u001b[0m\n\u001b[1;31mSyntaxError\u001b[0m\u001b[1;31m:\u001b[0m invalid syntax\n"
     ]
    }
   ],
   "source": [
    "from selenium import webdriver\n",
    "from webdriver_manager.chrome import ChromeDriverManager\n",
    "from selenium.webdriver.common.keys import Keys\n",
    "from selenium.webdriver.support.ui import WebDriverWait \n",
    "from selenium.webdriver.support import expected_conditions, expected_conditions\n",
    "from selenium.webdriver.common.by import By  \n",
    "from selenium.webdriver.support import expected_conditions as EC\n",
    "from selenium.common.exceptions import NoSuchElementException,TimeoutException,ElementNotInteractableException\n",
    "from bs4 import BeautifulSoup\n",
    "import time\n",
    "import requests\n",
    "import re\n",
    "import csv\n",
    "\n",
    "file_link = open('C:\\\\Users\\\\samee\\\\Desktop\\\\Stevens\\\\Third_Sem\\\\BIA 660 A\\\\Project\\\\links.txt','a',encoding='utf8',newline='')\n",
    "\n",
    "# specifies the path to the cromedriver.exe\n",
    "num_of_jobs = 3606\n",
    "driver = webdriver.Chrome(ChromeDriverManager().install())\n",
    "url = 'https://www.indeed.com/jobs?q=Data+Scientist&l=Queens%2C+NY&radius=100&start=340'\n",
    "driver.get(url)\n",
    "cities = ['Queens,NY']\n",
    "#cities = ['Santa Clara,CA','Sunnyvale, CA','Cupertino, CA' ,'Queens,NY', 'Salem, MA', 'King of Prussia, PA',' Yardley,PA','Oakland, CA']\n",
    "text = []\n",
    "title= [] \n",
    "for i in cities:\n",
    " \n",
    "        # driver.find_element_by_id(\"text-input-where\").click()\n",
    "        # driver.find_element_by_id(\"text-input-where\").send_keys(Keys.CONTROL + \"a\")\n",
    "        # driver.find_element_by_id(\"text-input-where\").send_keys(Keys.DELETE)\n",
    "\n",
    "        # driver.find_element_by_xpath( \"//*//*[@id='text-input-where']\").send_keys(i)\n",
    "\n",
    "        # job_fill = WebDriverWait(driver, 5).until(\n",
    "        #     expected_conditions.presence_of_element_located((By.XPATH, \"//*[@id='text-input-what']\"))).send_keys('Data Scientist')\n",
    "        \n",
    "        # driver.find_element_by_xpath(\"//*[@id='text-input-what']\").send_keys(Keys.RETURN)\n",
    "        \n",
    "        # driver.find_element_by_xpath(\"//*[@id='filter-distance']/button\").click()\n",
    "        # try:\n",
    "            # driver.find_element_by_xpath(\"//*[@id='filter-distance-menu']/li[7]/a\").click()\n",
    "        \n",
    "        while True:\n",
    "                time.sleep(10)\n",
    "                try:\n",
    "                    driver.find_element_by_xpath(\"/html/body/div[4]/div[1]/button\").click()\n",
    "                    time.sleep(3)\n",
    "                except NoSuchElementException:\n",
    "                    pass\n",
    "                    responses = driver.page_source\n",
    "                    soup_people = BeautifulSoup(responses,'lxml')\n",
    "                    print(driver.find_element_by_xpath(\"//*[@id='searchCountPages']\").text)\n",
    "                    with open('C:\\\\Users\\\\samee\\\\Desktop\\\\Stevens\\\\Third_Sem\\\\BIA 660 A\\\\Project\\\\Indeed.csv','a',encoding='utf8',newline='') as file_2:\n",
    "                        csv_review = csv.writer(file_2,lineterminator='\\n')\n",
    "\n",
    "                        time.sleep(10)\n",
    "                        home = driver.current_url\n",
    "                        for j in soup_people.findAll('a',{'data-tn-element':'jobTitle'}):\n",
    "                                # driver.switch_to.window(driver.window_handles[1])\n",
    "                                link = \"https://www.indeed.com\" + j.get('href')\n",
    "                                file_link.writelines(link + \"\\n\")\n",
    "                                driver.get(link)\n",
    "                                responses1 = driver.page_source\n",
    "                                soup_desc = BeautifulSoup(responses1,'lxml')\n",
    "                                num_of_jobs = num_of_jobs + 1\n",
    "                                # time.sleep(5)\n",
    "                                # position = soup_desc.find('div',{'class':'jobsearch-JobInfoHeader-title-container'}).text\n",
    "                                # try:\n",
    "                                #     company = soup_desc.find('div',{'class':'jobsearch-CompanyReview--heading'}).text\n",
    "                                # except AttributeError :\n",
    "                                #     company = soup_desc.find('div',{'class':'icl-u-lg-mr--sm icl-u-xs-mr--xs'}).text\n",
    "                                # desc = soup_desc.find('div',{'class' : 'jobsearch-jobDescriptionText'}).text\n",
    "                                file_html = open(f'C:\\\\Users\\\\samee\\\\Desktop\\\\Stevens\\\\Third_Sem\\\\BIA 660 A\\\\Project\\\\HTML\\\\File_{str(num_of_jobs)}DS1.html','w',encoding='utf8')\n",
    "                                file_html.write(responses1)\n",
    "                                # csv_review.writerow([position,company,desc])\n",
    "                                # print(num_of_jobs)\n",
    "                                time.sleep(3)\n",
    "                        \n",
    "                        driver.get(home)\n",
    "                        driver.execute_script(\"window.scrollTo(0, document.body.scrollHeight);\")\n",
    "                        try:\n",
    "                            next_page = WebDriverWait(driver, 10).until(\n",
    "                expected_conditions.presence_of_element_located((By.CSS_SELECTOR, \"[aria-label=Next]\"))).click()\n",
    "                            continue\n",
    "                        except (NoSuchElementException,TimeoutException):\n",
    "                                break\n",
    "        # except NoSuchElementException:\n",
    "        #     print(\"Website is waiting for captcha\")\n",
    "        #     time.sleep(30)\n",
    "        #     continue"
   ]
  },
  {
   "cell_type": "code",
   "execution_count": 4,
   "metadata": {},
   "outputs": [],
   "source": [
    "file_2.close()\n",
    "file_link.close()\n",
    "file_html.close()"
   ]
  },
  {
   "cell_type": "code",
   "execution_count": null,
   "metadata": {},
   "outputs": [],
   "source": [
    "//*[@id=\"resultsCol\"]/nav/div/ul/li[7]/a\n",
    "//*[@id=\"resultsCol\"]/nav/div/ul/li[6]/a\n",
    "//*[@id=\"searchCountPages\"]"
   ]
  },
  {
   "cell_type": "code",
   "execution_count": 56,
   "metadata": {},
   "outputs": [
    {
     "output_type": "stream",
     "name": "stdout",
     "text": [
      "//*[@id=sja1]\n//*[@id=sja2]\n//*[@id=sja3]\n//*[@id=sja4]\n"
     ]
    }
   ],
   "source": [
    "for j in range(1,5):\n",
    "    print (f'//*[@id=sja{str(j)}]')"
   ]
  },
  {
   "cell_type": "code",
   "execution_count": null,
   "metadata": {},
   "outputs": [],
   "source": [
    "https://www.indeed.com/viewjob?jk=b203e99023f7fcd8&tk=1eovm40biu296801&from=serp&vjs=3&advn=7536404725441878&adid=309360918&ad=-6NYlbfkN0Dr_hnQ-Jfvx8x1kl6LZGw5tBy_C31iSfGQgc5_4VANfqJsY2O7nCkwuANmyASBhxXv3hGBuXm67TZTPSvovxs3hNpUovJsF8klKxcfmU9kMccjJAYqlQuzYb68wqh4pY0XcIkKzzGGSdUfqjZrrSlZHr-vTjz6LDkCT42KAvjJ_snA_0nKAryxT32PpKV9TGUlqKrjnwcxr537ZLqdz5lof2TT5DE163Izsf0Vqs_JOqdegDtFoNwFeQb8zVvhNb_5wJoE8PbSvLYtAIJGm4KKgNGXKrY2mL4MoS__9mmXCf6MHBbGH1zraUaA8I8UYsg=&sjdu=QWF4TUFyrHvH7u082A4fa9Dryw61MuqDG8ubzgM_sIk"
   ]
  },
  {
   "cell_type": "code",
   "execution_count": 6,
   "metadata": {},
   "outputs": [],
   "source": [
    "file_2.close()"
   ]
  },
  {
   "cell_type": "code",
   "execution_count": 44,
   "metadata": {},
   "outputs": [
    {
     "output_type": "stream",
     "name": "stdout",
     "text": [
      "https://www.indeed.com/viewjob?jk=0a5ad1730143058d&q=Data+Scientist&l=Santa+Clara,+CA&from=web&advn=3522562628255651&adid=270028171&ad=-6NYlbfkN0ARICpNo1DhGqfodICOss3ZS6QdhS5AHh5hrs_CHOPYqyMBbpKreu8_0VPK2YpEpLYNG2DuHHTAhiLJ05M4gfspXJaDVICDeXGNWvvEDAjIC5GJtjM5RasIesEeBLWmxjoGS9_R08qdQ22enGo_KSajFzGqteRctwCIZNTD5jVd6ITYuX10dPP51aUFPH9-EbHgjXUSbHpQZYJR93UUtkEaHuGyIoUjkqtdBFliLGGP3kHicUhqhd788naAyvd08OfhKVKGOiiAidbEFVro3L9mIfilGmVeYJfpJicm7Q6-BSN-nVC2rlZh&sjdu=vUz3PJIdpGfygLQXVlxEDtrp31zrUKvX5DyE7UoHSnZR7eIhf9jE__p-m_TQ6wmz6zzBQ_hsG3rDJFS1BKbC1Cj19q3vAAR8lpfPnO7dyresU7EyW5M0q3HKhuZxtUhAhxdb6V4I0p5ehpn2W58uqeVs7GUCBukk0VUhQ5K_54wHu8DAe7ZYrxem2TRpUZVfcG_NkWkBOHUoVMyI0zOxFg&acatk=1ep0ha706u2sq800&pub=4a1b367933fd867b19b072952f68dceb&vjs=3\n"
     ]
    }
   ],
   "source": [
    "print(driver.current_url)"
   ]
  },
  {
   "cell_type": "code",
   "execution_count": null,
   "metadata": {},
   "outputs": [],
   "source": [
    "Page 17 of 785 jobs\n",
    "3253"
   ]
  }
 ]
}